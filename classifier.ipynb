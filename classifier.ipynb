{
 "cells": [
  {
   "cell_type": "markdown",
   "id": "c68dcb56",
   "metadata": {},
   "source": [
    "# Audio Classifier"
   ]
  },
  {
   "cell_type": "code",
   "execution_count": 1,
   "id": "c06d55ca",
   "metadata": {},
   "outputs": [],
   "source": [
    "import numpy as np"
   ]
  },
  {
   "cell_type": "code",
   "execution_count": 4,
   "id": "52475de7",
   "metadata": {},
   "outputs": [],
   "source": [
    "data_train = np.loadtxt(\"ae.train\")\n",
    "data_test = np.loadtxt(\"ae.test\")"
   ]
  },
  {
   "cell_type": "code",
   "execution_count": 5,
   "id": "aea5a0e7",
   "metadata": {},
   "outputs": [],
   "source": [
    "def get_labels(data, block_lens):\n",
    "    \"\"\"\n",
    "    return format of X:\n",
    "        - array of recordings\n",
    "        - per recording:\n",
    "            - each row is a recording frame (time step), beware varies! \n",
    "            - each column is a channel (always 12)\n",
    "    \"\"\"\n",
    "    X = []\n",
    "    y = []\n",
    "    prev_row_idx = 0\n",
    "    speaker_num = 0\n",
    "    count = 0\n",
    "\n",
    "    for i in range(data.shape[0]): # go through all rows\n",
    "        \n",
    "        # check each row \n",
    "        # rows of 1 indicate new recording\n",
    "        if np.all(data[i,:] == 1):\n",
    "            \n",
    "            X.append(data[prev_row_idx:i,:])\n",
    "            prev_row_idx = i + 1 # plus 1 to not include row of 1's\n",
    "            \n",
    "            y.append(speaker_num)\n",
    "            count += 1 # count examples per speaker\n",
    "            \n",
    "            if count == block_lens[speaker_num]:\n",
    "                count = 0\n",
    "                speaker_num += 1 # next class\n",
    "                \n",
    "    return X, y"
   ]
  },
  {
   "cell_type": "code",
   "execution_count": 6,
   "id": "07da7552",
   "metadata": {},
   "outputs": [],
   "source": [
    "train_block_lens = [30] * 9\n",
    "test_block_lens = [31, 35, 88, 44, 29, 24, 40, 50, 29]\n",
    "\n",
    "X_train, y_train = get_labels(data_train, train_block_lens)\n",
    "X_test, y_test = get_labels(data_test, test_block_lens)"
   ]
  },
  {
   "cell_type": "code",
   "execution_count": null,
   "id": "63c16f5d",
   "metadata": {},
   "outputs": [],
   "source": [
    "fig, ax = plt.subplots(nrows=3, ncols=3)\n",
    "fig.tight_layout(pad=1.5)\n",
    "\n",
    "max_range = 30\n",
    "min_range = 0\n",
    "count = 0\n",
    "\n",
    "for row in ax:\n",
    "    for col in row:\n",
    "        random_point = np.random.randint(min_range, max_range)\n",
    "        min_range += 30\n",
    "        max_range += 30\n",
    "        plot_recording(col, X_train[random_point].T, title=\"Speaker \" + str(count))\n",
    "        count += 1\n",
    "\n",
    "seed()\n",
    "fig.suptitle(\"Random Recordings from each Speaker\", y=1.1)\n",
    "plt.show()"
   ]
  }
 ],
 "metadata": {
  "kernelspec": {
   "display_name": "Python 3 (ipykernel)",
   "language": "python",
   "name": "python3"
  },
  "language_info": {
   "codemirror_mode": {
    "name": "ipython",
    "version": 3
   },
   "file_extension": ".py",
   "mimetype": "text/x-python",
   "name": "python",
   "nbconvert_exporter": "python",
   "pygments_lexer": "ipython3",
   "version": "3.10.8"
  }
 },
 "nbformat": 4,
 "nbformat_minor": 5
}
